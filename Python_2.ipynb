{
  "nbformat": 4,
  "nbformat_minor": 0,
  "metadata": {
    "colab": {
      "provenance": []
    },
    "kernelspec": {
      "name": "python3",
      "display_name": "Python 3"
    },
    "language_info": {
      "name": "python"
    }
  },
  "cells": [
    {
      "cell_type": "markdown",
      "source": [
        "### Data Manipulation and Analysis with Python"
      ],
      "metadata": {
        "id": "mJeFF1RQSuyV"
      }
    },
    {
      "cell_type": "markdown",
      "source": [
        "**Pengertian NumPy**\n",
        "\n",
        "NumPy (Numerical Python) adalah library dalam Python yang digunakan untuk komputasi numerik. NumPy menyediakan array multidimensi yang efisien dan berbagai fungsi matematika yang cepat untuk operasi pada array."
      ],
      "metadata": {
        "id": "2K-AwWpnTHcz"
      }
    },
    {
      "cell_type": "code",
      "source": [
        "import numpy as np\n",
        "import pandas as pd\n",
        "import seaborn as sns\n",
        "import matplotlib.pyplot as plt"
      ],
      "metadata": {
        "id": "Iouvf18kXmHc"
      },
      "execution_count": 2,
      "outputs": []
    },
    {
      "cell_type": "markdown",
      "source": [
        "**Dasar-Dasar NumPy**\n",
        "\n",
        "a. Membuat Array NumPy"
      ],
      "metadata": {
        "id": "kq1U0snGUZP0"
      }
    },
    {
      "cell_type": "code",
      "execution_count": null,
      "metadata": {
        "id": "ZHRvbm7KRsiP"
      },
      "outputs": [],
      "source": [
        "# Membuat array dari list\n",
        "arr = np.array([10, 20, 30, 40, 50])\n",
        "\n",
        "print(arr)"
      ]
    },
    {
      "cell_type": "markdown",
      "source": [
        "b. Array Multidimensi"
      ],
      "metadata": {
        "id": "xItNLL0OZ_IK"
      }
    },
    {
      "cell_type": "code",
      "source": [
        "# Membuat array 2D\n",
        "arr_2d = np.array([[2, 4, 6], [8, 10, 12]])\n",
        "\n",
        "print(arr_2d)"
      ],
      "metadata": {
        "id": "ORgdBN3wZL48"
      },
      "execution_count": null,
      "outputs": []
    },
    {
      "cell_type": "markdown",
      "source": [
        "c. Properti Array NumPy"
      ],
      "metadata": {
        "id": "p9krb9fbaBXq"
      }
    },
    {
      "cell_type": "code",
      "source": [
        "print(\"Dimensi array:\", arr_2d.ndim)\n",
        "print(\"Shape array:\", arr_2d.shape)\n",
        "print(\"Jumlah elemen:\", arr_2d.size)\n",
        "print(\"Tipe data:\", arr_2d.dtype)"
      ],
      "metadata": {
        "id": "0ToxDvHGZ8YK"
      },
      "execution_count": null,
      "outputs": []
    },
    {
      "cell_type": "markdown",
      "source": [
        "**Operasi pada Array**\n",
        "\n",
        "a. Operasi Aritmatika"
      ],
      "metadata": {
        "id": "gTYiVQxRa4-y"
      }
    },
    {
      "cell_type": "code",
      "source": [
        "arr1 = np.array([5, 10, 15])\n",
        "arr2 = np.array([2, 4, 6])\n",
        "\n",
        "print(\"Penjumlahan:\", arr1 + arr2)\n",
        "print(\"Pengurangan:\", arr1 - arr2)\n",
        "print(\"Perkalian:\", arr1 * arr2)\n",
        "print(\"Pembagian:\", arr1 / arr2)"
      ],
      "metadata": {
        "id": "KAHy1NxXa8wC"
      },
      "execution_count": null,
      "outputs": []
    },
    {
      "cell_type": "markdown",
      "source": [
        "b. Fungsi Universal (UFUNC)"
      ],
      "metadata": {
        "id": "RkhoR1-WbhGa"
      }
    },
    {
      "cell_type": "code",
      "source": [
        "arr = np.array([9, 16, 25, 36])\n",
        "\n",
        "print(\"Akar kuadrat:\", np.sqrt(arr))\n",
        "print(\"Logaritma:\", np.log(arr))\n",
        "print(\"Logaritma basis 10:\", np.log10(arr))\n",
        "print(\"Eksponensial:\", np.exp(arr))\n",
        "print(\"Sinus:\", np.sin(arr))\n",
        "print(\"Cosinus:\", np.cos(arr))\n",
        "print(\"Tangen:\", np.tan(arr))\n",
        "print(\"Pangkat:\", np.power(arr, 2)) # dipangkatkan 2"
      ],
      "metadata": {
        "id": "j8xKu15mbg0i"
      },
      "execution_count": null,
      "outputs": []
    },
    {
      "cell_type": "markdown",
      "source": [
        "c. Indexing dan Slicing"
      ],
      "metadata": {
        "id": "uS16aa7SeXIh"
      }
    },
    {
      "cell_type": "code",
      "source": [
        "arr = np.array([15, 30, 45, 60, 75])\n",
        "\n",
        "print(\"Elemen pertama:\", arr[0])\n",
        "print(\"Elemen terakhir:\", arr[-1])\n",
        "print(\"Slice dari index 1-3:\", arr[1:4])"
      ],
      "metadata": {
        "id": "Go7fAyeXeZZh"
      },
      "execution_count": null,
      "outputs": []
    },
    {
      "cell_type": "markdown",
      "source": [
        "**Operasi Lanjutan**"
      ],
      "metadata": {
        "id": "jDf33vGvdVtK"
      }
    },
    {
      "cell_type": "code",
      "source": [
        "# Array dengan operasi matematika\n",
        "nilai = [65, 75, 90]\n",
        "nilai = np.array(nilai)\n",
        "\n",
        "print(\"Array setelah ditambah 5:\", nilai + 5)\n",
        "print(\"Array setelah dipangkatkan 2:\", np.power(nilai, 2))"
      ],
      "metadata": {
        "id": "DiAV5CzxgV8h"
      },
      "execution_count": null,
      "outputs": []
    },
    {
      "cell_type": "code",
      "source": [
        "# Koleksi data\n",
        "nama_set  = {\"Budi\", \"Andi\", \"Andi\"} # Set (unik)\n",
        "nama_list = [\"Budi\", \"Andi\", \"Andi\"] # List (boleh duplikat)\n",
        "nama_tuple = (\"Budi\", \"Andi\", \"Andi\") # Tuple (immutable, boleh duplikat)\n",
        "\n",
        "print(\"Set:\", nama_set)\n",
        "print(\"List:\", nama_list)\n",
        "print(\"Tuple:\", nama_tuple)"
      ],
      "metadata": {
        "id": "HKlOm3Ykhb8j"
      },
      "execution_count": null,
      "outputs": []
    },
    {
      "cell_type": "code",
      "source": [
        "# Mengubah nilai dalam list\n",
        "nama_list[0] = \"Rudi\"\n",
        "nama_list.append(\"Dewi\")\n",
        "\n",
        "print(\"List setelah perubahan:\", nama_list)"
      ],
      "metadata": {
        "id": "3E_Etvxqi1bR"
      },
      "execution_count": null,
      "outputs": []
    },
    {
      "cell_type": "code",
      "source": [
        "# Konversi koleksi data\n",
        "print(\"Nilai dari set:\", list(nama_set))\n",
        "print(\"Set dari tuple:\", set(nama_tuple))"
      ],
      "metadata": {
        "id": "E8bI7c4ti9Ty"
      },
      "execution_count": null,
      "outputs": []
    },
    {
      "cell_type": "code",
      "source": [
        "# Operasi logis pada array\n",
        "print(\"Nilai di atas 70:\", nilai > 70)\n",
        "print(\"Elemen yang lebih dari 70:\", nilai[nilai > 70])"
      ],
      "metadata": {
        "id": "5DYqUqMqjRB7"
      },
      "execution_count": null,
      "outputs": []
    },
    {
      "cell_type": "code",
      "source": [
        "# Statistik array\n",
        "print(\"Total nilai:\", nilai.sum())\n",
        "print(\"Nilai tertinggi:\", nilai.max())\n",
        "print(\"Nilai terendah:\", nilai.min())\n",
        "print(\"Nilai rata-rata:\", nilai.mean())\n",
        "print(\"Standar deviasi:\", nilai.std())\n",
        "print(\"Nilai tengah:\", np.median(nilai))"
      ],
      "metadata": {
        "id": "h3fWM0bCj16r"
      },
      "execution_count": null,
      "outputs": []
    },
    {
      "cell_type": "markdown",
      "source": [
        "**Latihan**"
      ],
      "metadata": {
        "id": "wXSlJwCYkdo5"
      }
    },
    {
      "cell_type": "markdown",
      "source": [
        "LATIHAN 1: Membuat dan Menampilkan Array\n",
        "\n",
        "- Buatlah array 1D dan array 2D menggunakan NumPy, lalu tampilkan dimensi dan bentuknya."
      ],
      "metadata": {
        "id": "5aBqEORY3rVb"
      }
    },
    {
      "cell_type": "code",
      "source": [
        "# Tulis kode di bawah ini"
      ],
      "metadata": {
        "id": "XtMTnp-w4Txj"
      },
      "execution_count": null,
      "outputs": []
    },
    {
      "cell_type": "markdown",
      "source": [
        "Latihan 2: Operasi Aritmatika\n",
        "\n",
        "- Buat dua array dengan ukuran yang sama dan lakukan operasi penjumlahan, pengurangan, perkalian, dan pembagian."
      ],
      "metadata": {
        "id": "2vTrhQW-4lWt"
      }
    },
    {
      "cell_type": "code",
      "source": [
        "# Tulis kode di bawah ini"
      ],
      "metadata": {
        "id": "oUxnn1AI4pWz"
      },
      "execution_count": null,
      "outputs": []
    },
    {
      "cell_type": "markdown",
      "source": [
        "Latihan 3: Manipulasi Array\n",
        "\n",
        "- Berikan contoh penggunaan slicing dan indexing pada array NumPy."
      ],
      "metadata": {
        "id": "NctI6swz5A-D"
      }
    },
    {
      "cell_type": "code",
      "source": [
        "# Tulis kode di bawah ini"
      ],
      "metadata": {
        "id": "_dui45465FOj"
      },
      "execution_count": null,
      "outputs": []
    },
    {
      "cell_type": "markdown",
      "source": [
        "Latihan 4: Menggunakan Fungsi Universal\n",
        "\n",
        "- Gunakan fungsi seperti <code>np.sqrt()</code>, <code>np.log()</code>, dan <code>np.exp()</code> pada sebuah array."
      ],
      "metadata": {
        "id": "aLkCJR-w5GaL"
      }
    },
    {
      "cell_type": "code",
      "source": [
        "# Tulis kode di bawah ini"
      ],
      "metadata": {
        "id": "y-ZDCAl65SIC"
      },
      "execution_count": null,
      "outputs": []
    },
    {
      "cell_type": "markdown",
      "source": [
        "Latihan 5: Operasi pada List dan Set\n",
        "\n",
        "- Buatlah list nama dengan beberapa elemen duplikat, ubah salah satu elemennya, tambahkan elemen baru, lalu konversikan ke set."
      ],
      "metadata": {
        "id": "3scTCAJO5YyC"
      }
    },
    {
      "cell_type": "code",
      "source": [
        "# Tulis kode di bawah ini"
      ],
      "metadata": {
        "id": "iROc7ph45Vwd"
      },
      "execution_count": null,
      "outputs": []
    },
    {
      "cell_type": "markdown",
      "source": [
        "Latihan 6: Analisis Data dengan NumPy\n",
        "\n",
        "- Buat array berisi nilai ujian beberapa siswa, lalu tampilkan nilai yang lebih besar dari 85, jumlah total, dan rata-ratanya."
      ],
      "metadata": {
        "id": "5udH-nWo6I4r"
      }
    },
    {
      "cell_type": "code",
      "source": [
        "# Tulis kode di bawah ini"
      ],
      "metadata": {
        "id": "-1CxBU-W6M0r"
      },
      "execution_count": null,
      "outputs": []
    },
    {
      "cell_type": "markdown",
      "source": [
        "\n",
        "\n",
        "---\n",
        "\n"
      ],
      "metadata": {
        "id": "k8LwuIim6-3z"
      }
    },
    {
      "cell_type": "markdown",
      "source": [
        "**Pengertian Pandas**\n",
        "\n",
        "Pandas adalah library Python yang digunakan untuk manipulasi dan analisis data. Library ini menyediakan struktur data yang fleksibel dan efisien, seperti DataFrame dan Series, yang memudahkan pengolahan data dalam berbagai format."
      ],
      "metadata": {
        "id": "sC7UjyBI8U57"
      }
    },
    {
      "cell_type": "code",
      "source": [
        "iris = sns.load_dataset('iris') # Menggunakan Seaborn (sns) untuk memuat dataset iris ke dalam variabel iris\n",
        "iris"
      ],
      "metadata": {
        "id": "mo39qkz6Bj9D"
      },
      "execution_count": null,
      "outputs": []
    },
    {
      "cell_type": "markdown",
      "source": [
        "**Dasar-Dasar Pandas**\n",
        "\n",
        "a. Membuat DataFrame dari Dictionary"
      ],
      "metadata": {
        "id": "WNIkk4Hp8ccD"
      }
    },
    {
      "cell_type": "code",
      "source": [
        "data = {\n",
        "    \"Nama\": [\"Andi\", \"Budi\", \"Citra\"],\n",
        "    \"Usia\": [21, 22, 23],\n",
        "    \"Kota\": [\"Jakarta\", \"Bandung\", \"Surabaya\"]\n",
        "}\n",
        "df = pd.DataFrame(data)\n",
        "print(data)"
      ],
      "metadata": {
        "id": "7QbQhLr99AWj"
      },
      "execution_count": null,
      "outputs": []
    },
    {
      "cell_type": "markdown",
      "source": [
        "b. Membuat DataFrame dari CSV (Comma Separated Value)"
      ],
      "metadata": {
        "id": "bnKpWWoh9nsl"
      }
    },
    {
      "cell_type": "code",
      "source": [
        "data = pd.read_csv(\"/content/movies.csv\")\n",
        "data # Menampilkan semua baris"
      ],
      "metadata": {
        "id": "q1XlSSSQ9oer"
      },
      "execution_count": null,
      "outputs": []
    },
    {
      "cell_type": "code",
      "source": [
        "# Menampilkan n data pertama\n",
        "data.head(10)"
      ],
      "metadata": {
        "id": "biN4XN0q_9ty"
      },
      "execution_count": null,
      "outputs": []
    },
    {
      "cell_type": "code",
      "source": [
        "# Menampilkan n data terakhir\n",
        "data.tail(10)"
      ],
      "metadata": {
        "id": "0u7rCM5IAGWy"
      },
      "execution_count": null,
      "outputs": []
    },
    {
      "cell_type": "markdown",
      "source": [
        "c. Membuat DataFrame dari JSON (Javascript Object Noation)"
      ],
      "metadata": {
        "id": "mB9KiKq8CwUx"
      }
    },
    {
      "cell_type": "code",
      "source": [
        "data2 = pd.read_json(\"/content/US_STATE_recipes.json\")\n",
        "data2"
      ],
      "metadata": {
        "id": "DTn7TWuwC_q5"
      },
      "execution_count": null,
      "outputs": []
    },
    {
      "cell_type": "markdown",
      "source": [
        "d. Properti DataFrame"
      ],
      "metadata": {
        "id": "3YhDmAS3EX4y"
      }
    },
    {
      "cell_type": "code",
      "source": [
        "# Menampilkan jumlah baris dan kolom\n",
        "print(\"Jumlah baris dan kolom:\", data.shape)"
      ],
      "metadata": {
        "id": "fshytiJ-Ea1a"
      },
      "execution_count": null,
      "outputs": []
    },
    {
      "cell_type": "code",
      "source": [
        "# Menampilkan nama kolom\n",
        "print(\"Nama kolom:\", data.columns)"
      ],
      "metadata": {
        "id": "njKtg2nYFP9i"
      },
      "execution_count": null,
      "outputs": []
    },
    {
      "cell_type": "code",
      "source": [
        "# Menampilkan tipe data kolom\n",
        "print(\"Tipe data:\", data.dtypes)"
      ],
      "metadata": {
        "id": "Mn2ZfwdmFbQR"
      },
      "execution_count": null,
      "outputs": []
    },
    {
      "cell_type": "code",
      "source": [
        "# Menampilkan informasi data\n",
        "print(\"Infromasi data:\")\n",
        "data.info()"
      ],
      "metadata": {
        "id": "fAt7IwrXFqhZ"
      },
      "execution_count": null,
      "outputs": []
    },
    {
      "cell_type": "markdown",
      "source": [
        "**Operasi pada DataFrame**\n",
        "\n",
        "a. Mengakses Data dalam DataFrame"
      ],
      "metadata": {
        "id": "mSnE9Zg9GVR8"
      }
    },
    {
      "cell_type": "code",
      "source": [
        "data[\"name\"] # Mengakses satu kolom \"name\""
      ],
      "metadata": {
        "id": "37ArDo8cGyqp"
      },
      "execution_count": null,
      "outputs": []
    },
    {
      "cell_type": "code",
      "source": [
        "data.loc[5] # Mengakses satu baris berdasarkan index"
      ],
      "metadata": {
        "id": "axyyeVoqHJ7p"
      },
      "execution_count": null,
      "outputs": []
    },
    {
      "cell_type": "code",
      "source": [
        "data.loc[5, \"name\"] # Mengakses nilai dalam satu baris dan kolom tertentu"
      ],
      "metadata": {
        "id": "169CSZ-9H7GT"
      },
      "execution_count": null,
      "outputs": []
    },
    {
      "cell_type": "code",
      "source": [
        "data.iloc[0] # Mengakses satu baris berdasarkan posisi"
      ],
      "metadata": {
        "id": "xX40d9dGHT5a"
      },
      "execution_count": null,
      "outputs": []
    },
    {
      "cell_type": "code",
      "source": [
        "data.iloc[0, 2] # Mengakses nilai dalam satu baris dan kolom tertentu berdasarkan posisi"
      ],
      "metadata": {
        "id": "lzoYqGyyIxg6"
      },
      "execution_count": null,
      "outputs": []
    },
    {
      "cell_type": "markdown",
      "source": [
        "b. Menambahkan dan Menghapus Kolom"
      ],
      "metadata": {
        "id": "zz1xP3qBJRda"
      }
    },
    {
      "cell_type": "code",
      "source": [
        "df[\"Gaji\"] = [5000000, 6000000, 5500000] # Menambah kolom baru\n",
        "df"
      ],
      "metadata": {
        "id": "B6foj7zVJWaZ"
      },
      "execution_count": null,
      "outputs": []
    },
    {
      "cell_type": "code",
      "source": [
        "df = df.drop(columns=[\"Gaji\"]) # Menghapus kolom\n",
        "df"
      ],
      "metadata": {
        "id": "Mh2BJ-k9JtD5"
      },
      "execution_count": null,
      "outputs": []
    },
    {
      "cell_type": "markdown",
      "source": [
        "c. Operasi Matematika"
      ],
      "metadata": {
        "id": "iRQP_gyzK8rZ"
      }
    },
    {
      "cell_type": "code",
      "source": [
        "# Penjumlahan\n",
        "print(\"Usia ditambah 5 tahun:\")\n",
        "df[\"Usia\"] = df[\"Usia\"] + 5\n",
        "df"
      ],
      "metadata": {
        "id": "NEfE0pKUL7z5"
      },
      "execution_count": null,
      "outputs": []
    },
    {
      "cell_type": "code",
      "source": [
        "# Perkalian\n",
        "print(\"Usia dikalikan 2:\")\n",
        "df[\"Usia_double\"] = df[\"Usia\"] * 2\n",
        "df"
      ],
      "metadata": {
        "id": "NQidDlcpNN2h"
      },
      "execution_count": null,
      "outputs": []
    },
    {
      "cell_type": "code",
      "source": [
        "# Pembagian\n",
        "print(\"Usia dibagi 2:\")\n",
        "df[\"Usia_setengah\"] = df[\"Usia\"] / 2\n",
        "df"
      ],
      "metadata": {
        "id": "hzv_0SmNNXLJ"
      },
      "execution_count": null,
      "outputs": []
    },
    {
      "cell_type": "code",
      "source": [
        "# Pangkat\n",
        "print(\"Usia dipangkatkan 2:\")\n",
        "df[\"Usia_pangkat2\"] = df[\"Usia\"] ** 2\n",
        "df"
      ],
      "metadata": {
        "id": "5WX1Bq2KNcUZ"
      },
      "execution_count": null,
      "outputs": []
    },
    {
      "cell_type": "markdown",
      "source": [
        "d. Transformasi Data"
      ],
      "metadata": {
        "id": "0G_AhKsENoQp"
      }
    },
    {
      "cell_type": "code",
      "source": [
        "# Ekstraksi fitur\n",
        "# Menambahkan kolom baru yang dihitung berdasarkan dua kolom lainnya\n",
        "data[\"pendapatan_bersih\"] = data[\"gross\"] - data[\"budget\"]"
      ],
      "metadata": {
        "id": "WA66b_-WN4oZ"
      },
      "execution_count": null,
      "outputs": []
    },
    {
      "cell_type": "code",
      "source": [
        "data.loc[:, [\"pendapatan_bersih\", \"gross\", \"budget\"]] # Mengambil semua baris tetapi hanya kolom dengan nama yang ditentukan"
      ],
      "metadata": {
        "id": "xev7FQBQP1gA"
      },
      "execution_count": null,
      "outputs": []
    },
    {
      "cell_type": "code",
      "source": [
        "# Transformasi fitur\n",
        "# Menggunakan logaritma pada pendapatan bersih untuk transformasi\n",
        "data[\"pendapatan_bersih_log\"] = np.log(data[\"pendapatan_bersih\"])"
      ],
      "metadata": {
        "id": "EWmFzr9UQe1S"
      },
      "execution_count": null,
      "outputs": []
    },
    {
      "cell_type": "code",
      "source": [
        "data"
      ],
      "metadata": {
        "id": "BSKr3vCgSGtA"
      },
      "execution_count": null,
      "outputs": []
    },
    {
      "cell_type": "markdown",
      "source": [
        "**Filter Data**\n",
        "\n",
        "```\n",
        "Operator\n",
        "AND -> &\n",
        "OR -> |\n",
        "```"
      ],
      "metadata": {
        "id": "Ex8Nk3HtJ_rC"
      }
    },
    {
      "cell_type": "markdown",
      "source": [
        "\n",
        "\n",
        "```\n",
        "SELECT\n",
        "    name,\n",
        "    score,\n",
        "    gross\n",
        "WHERE\n",
        "    gross > 1000000\n",
        "AND\n",
        "    score > 8.0\n",
        "```\n",
        "\n"
      ],
      "metadata": {
        "id": "USw8C90uSjnp"
      }
    },
    {
      "cell_type": "markdown",
      "source": [
        "\n",
        "\n",
        "```\n",
        "Rumus\n",
        "dataframe[(nama kolom dan kondisi 1)] &/| [(nama kolom dan kondisi 2)]\n",
        "\n",
        "```\n",
        "\n"
      ],
      "metadata": {
        "id": "yw_aBFKITnpg"
      }
    },
    {
      "cell_type": "code",
      "source": [
        "data[\"gross\"] > 1000000"
      ],
      "metadata": {
        "id": "ROQLsFidTyFq"
      },
      "execution_count": null,
      "outputs": []
    },
    {
      "cell_type": "code",
      "source": [
        "data[data[\"gross\"] > 1000000]"
      ],
      "metadata": {
        "id": "yWgt2oNzUxwY"
      },
      "execution_count": null,
      "outputs": []
    },
    {
      "cell_type": "code",
      "source": [
        "data[(data[\"gross\"] > 1000000) & (data[\"score\"] > 8.0)]"
      ],
      "metadata": {
        "id": "3FDc50zyVcsR"
      },
      "execution_count": null,
      "outputs": []
    },
    {
      "cell_type": "code",
      "source": [
        "data.loc[(data[\"gross\"] > 1000000) & (data[\"score\"] > 8.0), [\"name\", \"score\", \"gross\"]]"
      ],
      "metadata": {
        "id": "g7OWWCX0WHgQ"
      },
      "execution_count": null,
      "outputs": []
    },
    {
      "cell_type": "markdown",
      "source": [
        "**Sorting Data**\n",
        "\n",
        "```\n",
        "SELECT\n",
        "  name,\n",
        "  score,\n",
        "  gross\n",
        "FROM\n",
        "  movies\n",
        "WHERE\n",
        "  gross > 1000000\n",
        "AND\n",
        "  score > 8.0\n",
        "ORDER BY\n",
        "  gross DESC\n",
        "```\n",
        "\n"
      ],
      "metadata": {
        "id": "qHM2UYlvW6Kg"
      }
    },
    {
      "cell_type": "markdown",
      "source": [
        "\n",
        "\n",
        "```\n",
        "Rumus\n",
        "dataframe.sort_values(by = [kolom1, kolom2, ...], ascending = [True, False, ...])\n",
        "\n",
        "```\n",
        "\n"
      ],
      "metadata": {
        "id": "sRKGG5jxXMJw"
      }
    },
    {
      "cell_type": "code",
      "source": [
        "data.sort_values(by = [\"gross\"], ascending = [False])"
      ],
      "metadata": {
        "id": "5wuk07nSXYKZ"
      },
      "execution_count": null,
      "outputs": []
    },
    {
      "cell_type": "markdown",
      "source": [
        "**Aggregating**\n",
        "\n",
        "```\n",
        "SELECT\n",
        "  name,\n",
        "  AVG(score) AS movie_score,\n",
        "  MAX(score) AS max_score,\n",
        "  MIN(SCORE) AS min_score\n",
        "FROM\n",
        "  movies\n",
        "GROUP BY\n",
        "  name\n",
        "```\n",
        "\n"
      ],
      "metadata": {
        "id": "WvBsgQ6uZZOw"
      }
    },
    {
      "cell_type": "markdown",
      "source": [
        "\n",
        "\n",
        "```\n",
        "Rumus\n",
        "dataframe.groupby({kolom1, kolom2, ...}).agg(\n",
        "  nama_kolom1 = (kolom1, rumus),\n",
        "  nama_kolom2 = (kolom2, rumus)\n",
        ")\n",
        "```\n",
        "\n"
      ],
      "metadata": {
        "id": "SxPn1IQBcdMH"
      }
    },
    {
      "cell_type": "markdown",
      "source": [
        "\n",
        "\n",
        "```\n",
        "Aggregat\n",
        "mean = rata-rata\n",
        "median = nilai tengah\n",
        "min = nilai minimum atau nilai terkecil\n",
        "max = nilai maximum atau nilai terbesar\n",
        "sum = total jumlah\n",
        "count = hitung jumlah baris\n",
        "nunique = count distinct (data unik)\n",
        "```\n",
        "\n"
      ],
      "metadata": {
        "id": "WffzR4tnclYv"
      }
    },
    {
      "cell_type": "code",
      "source": [
        "data[\"name\"].count()"
      ],
      "metadata": {
        "id": "EGD5DjxLedif"
      },
      "execution_count": null,
      "outputs": []
    },
    {
      "cell_type": "code",
      "source": [
        "data.groupby([\"name\"])[\"score\"].mean()"
      ],
      "metadata": {
        "id": "IuuvmQwec7Mq"
      },
      "execution_count": null,
      "outputs": []
    },
    {
      "cell_type": "code",
      "source": [
        "# Rata-rata score dari setiap film dan berapa banyak film yang terdata\n",
        "average_movie_score = data.groupby(\"name\", as_index = False).agg(\n",
        "    movie_score = (\"score\", \"mean\"),\n",
        "    n_movie = (\"name\", \"nunique\"),\n",
        "    max_score = (\"score\", \"max\"),\n",
        "    min_score = (\"score\", \"min\")\n",
        ")\n",
        "average_movie_score"
      ],
      "metadata": {
        "id": "MkPvitUpeO1H"
      },
      "execution_count": null,
      "outputs": []
    },
    {
      "cell_type": "markdown",
      "source": [
        "**Join**\n",
        "\n",
        "```\n",
        "SELECT\n",
        "  *\n",
        "FROM\n",
        "  movies AS a\n",
        "INNER JOIN\n",
        "  average_movie_score AS b\n",
        "ON\n",
        "  a.name = b.name\n",
        "```\n",
        "\n"
      ],
      "metadata": {
        "id": "_mi2o0lEhLb_"
      }
    },
    {
      "cell_type": "markdown",
      "source": [
        "\n",
        "\n",
        "```\n",
        "Rumus\n",
        "data1.merge(data2,\n",
        "        left_on = [kolom1, kolom2],\n",
        "        right_on = [kolom1, kolom2],\n",
        "        how = {inner, left, rigth, outer})\n",
        "```\n",
        "\n"
      ],
      "metadata": {
        "id": "5gqhNFJYiJ5g"
      }
    },
    {
      "cell_type": "code",
      "source": [
        "movies_score = data.merge(average_movie_score,\n",
        "                    left_on = [\"name\"],\n",
        "                    right_on = [\"name\"],\n",
        "                    how = \"inner\")\n",
        "movies_score"
      ],
      "metadata": {
        "id": "Jav8LjdYiVfH"
      },
      "execution_count": null,
      "outputs": []
    },
    {
      "cell_type": "markdown",
      "source": [
        "Membuat Kolom Baru\n",
        "\n",
        "*   Rating film diatas 9.0 itu \"High Recommend\"\n",
        "*   Rating film diantara 5.0 - 8.9 itu \"Good\"\n",
        "*   Rating film diantara dibawah 5.0 itu \"Bad Film\"\n",
        "*   Pendapatan film diatas 1.000.000.000 itu \"Terlaris\"\n",
        "*   Pendapatan film dibawah 1.000.000.000 itu \"Okelah\"\n",
        "\n",
        "\n",
        "\n"
      ],
      "metadata": {
        "id": "8I82MVA0jUiv"
      }
    },
    {
      "cell_type": "markdown",
      "source": [
        "\n",
        "\n",
        "```\n",
        "CASE\n",
        "  IF movie_score >= 9.0 THEN \"High Recommend\"\n",
        "  ELSE IF movie_score BETWEEN 5.0 - 8.9 THEN \"Good\"\n",
        "  ELSE movie_score < 5.0 \"Bad Film\"\n",
        "END AS movie_quality\n",
        "```\n",
        "\n"
      ],
      "metadata": {
        "id": "wpsUeXYFlQTI"
      }
    },
    {
      "cell_type": "markdown",
      "source": [
        "\n",
        "\n",
        "```\n",
        "CASE\n",
        "  IF gross >= 1000000000 THEN \"Terlaris\"\n",
        "  ELSE gross \"Okelah\"\n",
        "END AS movie_marketing\n",
        "```\n",
        "\n"
      ],
      "metadata": {
        "id": "wZkV0gHJl7in"
      }
    },
    {
      "cell_type": "markdown",
      "source": [
        "\n",
        "\n",
        "```\n",
        "1. Buat fungsi terlebih dahulu\n",
        "def name_function(param):\n",
        "  logic\n",
        "  return something\n",
        "2. dataframe[nama_kolom].apply(name_function)\n",
        "3. Jika ingin replace bikin nama kolomnya sama, dan jika ingin bikin kolom baru, nama kolomnya berbeda\n",
        "```\n",
        "\n"
      ],
      "metadata": {
        "id": "bond7RsAmg-u"
      }
    },
    {
      "cell_type": "code",
      "source": [
        "def movie_quality(score):\n",
        "  if score >= 8.5:\n",
        "    return \"High Recommend\"\n",
        "  elif score >= 5.0 and score <= 8.4:\n",
        "    return \"Good\"\n",
        "  else:\n",
        "    return \"Bad Film\""
      ],
      "metadata": {
        "id": "xE5A_DOqjSpY"
      },
      "execution_count": 17,
      "outputs": []
    },
    {
      "cell_type": "code",
      "source": [
        "movie_quality(9.0)"
      ],
      "metadata": {
        "id": "GbEc3ZHfnDze"
      },
      "execution_count": null,
      "outputs": []
    },
    {
      "cell_type": "code",
      "source": [
        "def movie_marketing(gross):\n",
        "  if gross >= 1000000000:\n",
        "    return \"Terlaris\"\n",
        "  else:\n",
        "    return \"Kurang Laris\""
      ],
      "metadata": {
        "id": "tO9b9RHtnCXv"
      },
      "execution_count": 19,
      "outputs": []
    },
    {
      "cell_type": "code",
      "source": [
        "movie_marketing(10000)"
      ],
      "metadata": {
        "id": "ybT7YRcboFG8"
      },
      "execution_count": null,
      "outputs": []
    },
    {
      "cell_type": "code",
      "source": [
        "movies_score[\"movie_quality\"] = movies_score[\"score\"].apply(movie_quality) # Kolom akan menyimpan nilai \"score\" dan menerapkan fungsi \"movie_quality\" ke setiap kolom \"score\"\n",
        "movies_score[\"movie_marketing\"] = movies_score[\"gross\"].apply(movie_marketing) # Kolom akan menyimpan nilai \"gross\" dan menerapkan fungsi \"movie_marketing\" ke setiap kolom \"gross\""
      ],
      "metadata": {
        "id": "qvVEdkIyo8re"
      },
      "execution_count": 22,
      "outputs": []
    },
    {
      "cell_type": "code",
      "source": [
        "movies_score[[\"name\", \"movie_quality\", \"movie_quality\"]]"
      ],
      "metadata": {
        "id": "iDObSRHOp3de"
      },
      "execution_count": null,
      "outputs": []
    },
    {
      "cell_type": "markdown",
      "source": [
        "**Case**\n",
        "\n",
        "*   Apakah film yang rating score nya dibawah 8.5 banyak dinikmati oleh penonton?\n"
      ],
      "metadata": {
        "id": "adM7anCiy6NJ"
      }
    },
    {
      "cell_type": "code",
      "source": [
        "result = movies_score.groupby([\"movie_quality\", \"movie_marketing\"]).agg(n = (\"name\", \"count\"))"
      ],
      "metadata": {
        "id": "UVG9yJL2zdpW"
      },
      "execution_count": 24,
      "outputs": []
    },
    {
      "cell_type": "code",
      "source": [
        "result"
      ],
      "metadata": {
        "id": "SEaIsln70Suf"
      },
      "execution_count": null,
      "outputs": []
    },
    {
      "cell_type": "markdown",
      "source": [
        "**Transpose DataFrame**\n",
        "\n",
        "Transpose digunakan untuk menukar baris menjadi kolom dan sebaliknya."
      ],
      "metadata": {
        "id": "zC-OeMPVYmdp"
      }
    },
    {
      "cell_type": "code",
      "source": [
        "result.T"
      ],
      "metadata": {
        "id": "C8usVuPV08C1"
      },
      "execution_count": null,
      "outputs": []
    },
    {
      "cell_type": "markdown",
      "source": [
        "**Cross Tabulation**\n",
        "\n",
        "Cross Tabulation digunakan untuk menghitung frekuensi dari dua atau lebih variabel kategorikal."
      ],
      "metadata": {
        "id": "y-888DMHZm7S"
      }
    },
    {
      "cell_type": "code",
      "source": [
        "pd.crosstab(\n",
        "    index = movies_score[\"movie_quality\"],\n",
        "    columns = movies_score[\"movie_marketing\"],\n",
        "    )"
      ],
      "metadata": {
        "id": "Oz3DJupBZEmP"
      },
      "execution_count": null,
      "outputs": []
    },
    {
      "cell_type": "code",
      "source": [
        "pd.crosstab(\n",
        "    index = movies_score[\"movie_quality\"],\n",
        "    columns = movies_score[\"movie_marketing\"],\n",
        "    values = movies_score[\"name\"],\n",
        "    aggfunc = \"nunique\"\n",
        "    )"
      ],
      "metadata": {
        "id": "f2S0g0GBefbj"
      },
      "execution_count": null,
      "outputs": []
    },
    {
      "cell_type": "markdown",
      "source": [
        "Gunakan <code>crosstab()</code> jika hanya ingin menghitung jumlah kategori dalam dua kolom."
      ],
      "metadata": {
        "id": "oZGJLPeneYEb"
      }
    },
    {
      "cell_type": "markdown",
      "source": [
        "**Pivoting Data**\n",
        "\n",
        "Pivot digunakan untuk mengubah data dari format panjang ke format lebar."
      ],
      "metadata": {
        "id": "lMw2-RIDcYbg"
      }
    },
    {
      "cell_type": "code",
      "source": [
        "result = movies_score.pivot_table(index = \"movie_marketing\",\n",
        "                                  columns = \"movie_quality\",\n",
        "                                  )\n",
        "result[[\"High Recommend\", \"Good\", \"Bad Film\"]]"
      ],
      "metadata": {
        "id": "EpyvXV2hfO-C"
      },
      "execution_count": null,
      "outputs": []
    },
    {
      "cell_type": "code",
      "source": [
        "result = movies_score.pivot_table(index = \"movie_marketing\",\n",
        "                                  columns = \"movie_quality\",\n",
        "                                  values = \"name\",\n",
        "                                  aggfunc = \"nunique\"\n",
        "                                  )\n",
        "result[[\"High Recommend\", \"Good\", \"Bad Film\"]]"
      ],
      "metadata": {
        "id": "nRQvp2fzbOAY"
      },
      "execution_count": null,
      "outputs": []
    },
    {
      "cell_type": "markdown",
      "source": [
        "Gunakan <code>pivot_table()</code> jika perlu agregasi lebih kompleks atau menggunakan kolom lain <code>(values)</code>."
      ],
      "metadata": {
        "id": "BTd9SmXvfAVV"
      }
    },
    {
      "cell_type": "code",
      "source": [
        "result.rename(columns = {\"Good\": \"Excellent\"})\n",
        "result"
      ],
      "metadata": {
        "id": "mFkFcVqYfZQl"
      },
      "execution_count": null,
      "outputs": []
    },
    {
      "cell_type": "markdown",
      "source": [
        "Menghitung jumlah kemunculan masing-masing nilai unik dalam kolom."
      ],
      "metadata": {
        "id": "LGoo5t6anENZ"
      }
    },
    {
      "cell_type": "code",
      "source": [
        "movies_score[\"movie_quality\"].value_counts()"
      ],
      "metadata": {
        "id": "E5o3mSwemRmt"
      },
      "execution_count": null,
      "outputs": []
    },
    {
      "cell_type": "markdown",
      "source": [
        "**Menampilkan Grafik**\n",
        "\n",
        "a. Membuat Histogram"
      ],
      "metadata": {
        "id": "DJ294tU0kJcT"
      }
    },
    {
      "cell_type": "code",
      "source": [
        "movies_score[\"runtime\"].hist()\n",
        "plt.xlabel(\"Runtime (minutes)\")\n",
        "plt.ylabel(\"Frequency\")\n",
        "plt.title(\"Distribution of Movie Runtime\")\n",
        "plt.show()"
      ],
      "metadata": {
        "id": "NEETfdz9iNJ6"
      },
      "execution_count": null,
      "outputs": []
    },
    {
      "cell_type": "markdown",
      "source": [
        "Jika ingin mengatur jumlah bins (kelompok interval), bisa menambahkan:"
      ],
      "metadata": {
        "id": "ua3LJ2HSlp9M"
      }
    },
    {
      "cell_type": "code",
      "source": [
        "movies_score[\"runtime\"].hist(bins = 50)\n",
        "plt.xlabel(\"Runtime (minutes)\")\n",
        "plt.ylabel(\"Frequency\")\n",
        "plt.title(\"Distribution of Movie Runtime\")\n",
        "plt.show()"
      ],
      "metadata": {
        "id": "Q3DWGCmhlLVo"
      },
      "execution_count": null,
      "outputs": []
    },
    {
      "cell_type": "markdown",
      "source": [
        "b. Membuat Diagram Pie"
      ],
      "metadata": {
        "id": "OBFFZyRNn1ps"
      }
    },
    {
      "cell_type": "code",
      "source": [
        "plt.pie(movies_score[\"movie_quality\"].value_counts(),\n",
        "        labels = movies_score[\"movie_quality\"].value_counts().index,\n",
        "        autopct = \"%1.1f%%\"\n",
        "        )\n",
        "plt.show()"
      ],
      "metadata": {
        "id": "7xnBuLOInzEt"
      },
      "execution_count": null,
      "outputs": []
    }
  ]
}