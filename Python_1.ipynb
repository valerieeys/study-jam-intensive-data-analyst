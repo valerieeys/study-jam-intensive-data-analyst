{
  "nbformat": 4,
  "nbformat_minor": 0,
  "metadata": {
    "colab": {
      "provenance": []
    },
    "kernelspec": {
      "name": "python3",
      "display_name": "Python 3"
    },
    "language_info": {
      "name": "python"
    }
  },
  "cells": [
    {
      "cell_type": "markdown",
      "source": [
        "### Introduction to Python"
      ],
      "metadata": {
        "id": "KDwo119LmoCy"
      }
    },
    {
      "cell_type": "markdown",
      "source": [
        "**Introduce Python \"Hello World!**"
      ],
      "metadata": {
        "id": "iBGKnMy8oWZS"
      }
    },
    {
      "cell_type": "markdown",
      "source": [
        "Coba eksekusi kode di bawah ini"
      ],
      "metadata": {
        "id": "aI1hqBHjlh15"
      }
    },
    {
      "cell_type": "code",
      "execution_count": null,
      "metadata": {
        "colab": {
          "base_uri": "https://localhost:8080/"
        },
        "id": "etCCsa1aj7EO",
        "outputId": "9990b7d0-bf90-4e0a-f4bf-cf735317d297"
      },
      "outputs": [
        {
          "output_type": "stream",
          "name": "stdout",
          "text": [
            "Hello World!\n"
          ]
        }
      ],
      "source": [
        "# Cetak Hello World!\n",
        "print(\"Hello World!\")"
      ]
    },
    {
      "cell_type": "markdown",
      "source": [
        "Fungsi <code>print()</code> pada python adalah sebuah fungsi yang digunakan untuk memunculkan output yang ingin kita print pada console/layar.\n",
        "\n",
        "---\n",
        "\n"
      ],
      "metadata": {
        "id": "R93H_1jZlhc7"
      }
    },
    {
      "cell_type": "markdown",
      "source": [
        "**Komentar di Python**"
      ],
      "metadata": {
        "id": "jQEZxjZUo-Ma"
      }
    },
    {
      "cell_type": "markdown",
      "source": [
        "Menambahkan komentar membantu orang lain memahami tujuan dari setiap bagian kode yang sudah ditulis. Selain itu, komentar bisa sebagai pengingat ketika melihat kembali kode setelah beberapa minggu atau bulan."
      ],
      "metadata": {
        "id": "1f0Jd7UNpTC6"
      }
    },
    {
      "cell_type": "code",
      "source": [
        "# Komentar\n",
        "print(\"Hello World!\") # Baris ini mencetak string (teks)"
      ],
      "metadata": {
        "colab": {
          "base_uri": "https://localhost:8080/"
        },
        "id": "aoJTqpQ9pF5B",
        "outputId": "e4174b36-ca97-4110-af57-51ffcf38348f"
      },
      "execution_count": null,
      "outputs": [
        {
          "output_type": "stream",
          "name": "stdout",
          "text": [
            "Hello World!\n"
          ]
        }
      ]
    },
    {
      "cell_type": "markdown",
      "source": [
        "Komentar selalu diabaikan, maka dari itu setiap compile kode yang memiliki komentar, maka output tetap akan muncul.\n",
        "\n",
        "---\n",
        "\n"
      ],
      "metadata": {
        "id": "IIB64fbCqaFQ"
      }
    },
    {
      "cell_type": "markdown",
      "source": [
        "**Identifikasi kesalahan dalam Python**"
      ],
      "metadata": {
        "id": "pH9NgtHzq53B"
      }
    },
    {
      "cell_type": "markdown",
      "source": [
        "Python akan memberi tahu bahwa kode tersebut salah dan memberi pesan error."
      ],
      "metadata": {
        "id": "kkCD55oprFIx"
      }
    },
    {
      "cell_type": "code",
      "source": [
        "# Cetak \"Hello World!\" dengan kesalahan\n",
        "printf(\"Hello World\")"
      ],
      "metadata": {
        "colab": {
          "base_uri": "https://localhost:8080/",
          "height": 158
        },
        "id": "JkUpmdD7rQQ5",
        "outputId": "21a9851b-b7aa-4760-a71d-800139226c6f"
      },
      "execution_count": null,
      "outputs": [
        {
          "output_type": "error",
          "ename": "NameError",
          "evalue": "name 'printf' is not defined",
          "traceback": [
            "\u001b[0;31m---------------------------------------------------------------------------\u001b[0m",
            "\u001b[0;31mNameError\u001b[0m                                 Traceback (most recent call last)",
            "\u001b[0;32m<ipython-input-4-97a49746219b>\u001b[0m in \u001b[0;36m<cell line: 0>\u001b[0;34m()\u001b[0m\n\u001b[1;32m      1\u001b[0m \u001b[0;31m# Cetak \"Hello World!\" dengan kesalahan\u001b[0m\u001b[0;34m\u001b[0m\u001b[0;34m\u001b[0m\u001b[0m\n\u001b[0;32m----> 2\u001b[0;31m \u001b[0mprintf\u001b[0m\u001b[0;34m(\u001b[0m\u001b[0;34m\"Hello World\"\u001b[0m\u001b[0;34m)\u001b[0m\u001b[0;34m\u001b[0m\u001b[0;34m\u001b[0m\u001b[0m\n\u001b[0m",
            "\u001b[0;31mNameError\u001b[0m: name 'printf' is not defined"
          ]
        }
      ]
    },
    {
      "cell_type": "markdown",
      "source": [
        "Pesan error akan memberi tahu letak error. Di kode tersebut python tidak bisa mengeksekusi <code>printf</code> karena printf tidak terdefinisi oleh library python."
      ],
      "metadata": {
        "id": "T5Bso11rrtQS"
      }
    },
    {
      "cell_type": "markdown",
      "source": [
        "Atau kesalahan <code>SyntaxtError</code>. Di bawah ini terdapat kode dengan kesalahan pada syntax nya dengan tidak menutup string."
      ],
      "metadata": {
        "id": "9t-ecLZ1sscK"
      }
    },
    {
      "cell_type": "code",
      "source": [
        "# Cetak \"Hello World!\" dengan kesalahan\n",
        "printf(\"Hello World)"
      ],
      "metadata": {
        "colab": {
          "base_uri": "https://localhost:8080/",
          "height": 106
        },
        "id": "Utn7hErwrQOB",
        "outputId": "b63ee370-e0a6-4136-a9d7-0fa908d42f16"
      },
      "execution_count": null,
      "outputs": [
        {
          "output_type": "error",
          "ename": "SyntaxError",
          "evalue": "unterminated string literal (detected at line 2) (<ipython-input-5-0073974a265d>, line 2)",
          "traceback": [
            "\u001b[0;36m  File \u001b[0;32m\"<ipython-input-5-0073974a265d>\"\u001b[0;36m, line \u001b[0;32m2\u001b[0m\n\u001b[0;31m    printf(\"Hello World)\u001b[0m\n\u001b[0m           ^\u001b[0m\n\u001b[0;31mSyntaxError\u001b[0m\u001b[0;31m:\u001b[0m unterminated string literal (detected at line 2)\n"
          ]
        }
      ]
    },
    {
      "cell_type": "markdown",
      "source": [
        "Python akan memeriksa seluruh program. Python akan berhenti menjalankan seluruh program ketika menemui error."
      ],
      "metadata": {
        "id": "jidoH6VWtdsR"
      }
    },
    {
      "cell_type": "code",
      "source": [
        "# Cetak string dan error untuk melihat urutan yang sedang berjalan\n",
        "\n",
        "print(\"Kalimat 1\")\n",
        "print(\"Kalimat 2)\n",
        "printf(\"Kalimat 3\")"
      ],
      "metadata": {
        "colab": {
          "base_uri": "https://localhost:8080/",
          "height": 106
        },
        "id": "SrG8rpmFrDy5",
        "outputId": "5eef3f59-dcf5-4b5b-b3d4-b178e648ee22"
      },
      "execution_count": null,
      "outputs": [
        {
          "output_type": "error",
          "ename": "SyntaxError",
          "evalue": "unterminated string literal (detected at line 4) (<ipython-input-8-bb717ae6adda>, line 4)",
          "traceback": [
            "\u001b[0;36m  File \u001b[0;32m\"<ipython-input-8-bb717ae6adda>\"\u001b[0;36m, line \u001b[0;32m4\u001b[0m\n\u001b[0;31m    print(\"This will cause an error)\u001b[0m\n\u001b[0m          ^\u001b[0m\n\u001b[0;31mSyntaxError\u001b[0m\u001b[0;31m:\u001b[0m unterminated string literal (detected at line 4)\n"
          ]
        }
      ]
    },
    {
      "cell_type": "markdown",
      "source": [
        "**LATIHAN: Program Pertama**"
      ],
      "metadata": {
        "id": "0gKJBmhhuJhx"
      }
    },
    {
      "cell_type": "markdown",
      "source": [
        "1. Tuliskan kode <code>Halo Dunia!</code> di bawah ini , menggunakan fungsi <code>print()</code>"
      ],
      "metadata": {
        "id": "HD9v7W0kubzh"
      }
    },
    {
      "cell_type": "code",
      "source": [
        "# Tulis kode di bawah ini"
      ],
      "metadata": {
        "id": "GZLCmF2iubVp"
      },
      "execution_count": null,
      "outputs": []
    },
    {
      "cell_type": "markdown",
      "source": [
        "2. Tambahkan komentar <code>Ini adalah komentar</code> di sebelah frasa <code>Halo Dunia!</code>, dalam satu baris."
      ],
      "metadata": {
        "id": "jg6nDydiu48p"
      }
    },
    {
      "cell_type": "code",
      "source": [
        "# Tulis kode di bawah ini"
      ],
      "metadata": {
        "id": "UR7YE0cTvSzA"
      },
      "execution_count": null,
      "outputs": []
    },
    {
      "cell_type": "markdown",
      "source": [
        "\n",
        "\n",
        "---\n",
        "\n"
      ],
      "metadata": {
        "id": "qVqUfoI_0EYB"
      }
    },
    {
      "cell_type": "markdown",
      "source": [
        "**Tipe Data**"
      ],
      "metadata": {
        "id": "sGvtZiMN0KkY"
      }
    },
    {
      "cell_type": "markdown",
      "source": [
        "Python bisa memberitahu tipe data objek dengan menggunakan fungsi </code>type()</code>. Dengan integer sebagai <code>int</code>, float sebagai <code>float</code>, string sebagai <code>str</code>."
      ],
      "metadata": {
        "id": "5mShug4h0atQ"
      }
    },
    {
      "cell_type": "code",
      "source": [
        "# Tipe (100)\n",
        "type(100)"
      ],
      "metadata": {
        "colab": {
          "base_uri": "https://localhost:8080/"
        },
        "id": "77gMsP691Ahe",
        "outputId": "8e6ffc9b-5d3e-4aa7-845a-cabea200941d"
      },
      "execution_count": null,
      "outputs": [
        {
          "output_type": "execute_result",
          "data": {
            "text/plain": [
              "int"
            ]
          },
          "metadata": {},
          "execution_count": 9
        }
      ]
    },
    {
      "cell_type": "code",
      "source": [
        "# Tipe (6.44)\n",
        "type(6.44)"
      ],
      "metadata": {
        "colab": {
          "base_uri": "https://localhost:8080/"
        },
        "id": "DrkPq0zo1Gc4",
        "outputId": "83836c03-c2cd-45f6-c927-4d6524bcb8df"
      },
      "execution_count": null,
      "outputs": [
        {
          "output_type": "execute_result",
          "data": {
            "text/plain": [
              "float"
            ]
          },
          "metadata": {},
          "execution_count": 11
        }
      ]
    },
    {
      "cell_type": "code",
      "source": [
        "# Tipe (\"Selamat Belajar!\")\n",
        "type(\"Selamat Belajar!\")"
      ],
      "metadata": {
        "colab": {
          "base_uri": "https://localhost:8080/"
        },
        "id": "GKFRwU431bAZ",
        "outputId": "9b82325d-1d58-459f-ccfb-3ff90eebbb9d"
      },
      "execution_count": null,
      "outputs": [
        {
          "output_type": "execute_result",
          "data": {
            "text/plain": [
              "str"
            ]
          },
          "metadata": {},
          "execution_count": 12
        }
      ]
    },
    {
      "cell_type": "markdown",
      "source": [
        "**LATIHAN: Tipe Data**"
      ],
      "metadata": {
        "id": "x-C4R0Od1tsY"
      }
    },
    {
      "cell_type": "markdown",
      "source": [
        "1. Gunakan fungsi <code>type()</code> dan periksa tipe objek <code>(58.13)</code>."
      ],
      "metadata": {
        "id": "99xZQI_012zw"
      }
    },
    {
      "cell_type": "code",
      "source": [
        "# Tulis kode di bawah ini"
      ],
      "metadata": {
        "id": "-yNQQcgw12Vo"
      },
      "execution_count": null,
      "outputs": []
    },
    {
      "cell_type": "markdown",
      "source": [
        "**Mengonversi Jenis Tipe Data ke Tipe Lain**"
      ],
      "metadata": {
        "id": "OCjrGw1I2XFh"
      }
    },
    {
      "cell_type": "markdown",
      "source": [
        "Dalam Python kita bisa typecasting. Berikut contoh konversi integer menjadi float."
      ],
      "metadata": {
        "id": "2Nnu9bDG2m6g"
      }
    },
    {
      "cell_type": "code",
      "source": [
        "# Ini adalah tipe data integer\n",
        "type(12)"
      ],
      "metadata": {
        "colab": {
          "base_uri": "https://localhost:8080/"
        },
        "id": "EMX4cqaL2mXY",
        "outputId": "656394cf-c3bf-402c-9c88-4a100754f286"
      },
      "execution_count": null,
      "outputs": [
        {
          "output_type": "execute_result",
          "data": {
            "text/plain": [
              "int"
            ]
          },
          "metadata": {},
          "execution_count": 13
        }
      ]
    },
    {
      "cell_type": "markdown",
      "source": [
        "Konversi integer menjadi float."
      ],
      "metadata": {
        "id": "kNwyZNQz3Aio"
      }
    },
    {
      "cell_type": "code",
      "source": [
        "# Mengubah 12 menjadi float\n",
        "float(12)"
      ],
      "metadata": {
        "colab": {
          "base_uri": "https://localhost:8080/"
        },
        "id": "9c7BOvC_3E1A",
        "outputId": "1942d956-3c2f-4c52-ccd7-5f1efc38a70a"
      },
      "execution_count": null,
      "outputs": [
        {
          "output_type": "execute_result",
          "data": {
            "text/plain": [
              "12.0"
            ]
          },
          "metadata": {},
          "execution_count": 14
        }
      ]
    },
    {
      "cell_type": "code",
      "source": [
        "# Mengubah 12 menjadi float lalu periksa tipe nya\n",
        "type(float(12))"
      ],
      "metadata": {
        "colab": {
          "base_uri": "https://localhost:8080/"
        },
        "id": "TMA-Huqt3LSA",
        "outputId": "de51a971-cade-43be-ae9b-519af4d6c906"
      },
      "execution_count": null,
      "outputs": [
        {
          "output_type": "execute_result",
          "data": {
            "text/plain": [
              "float"
            ]
          },
          "metadata": {},
          "execution_count": 15
        }
      ]
    },
    {
      "cell_type": "markdown",
      "source": [
        "Konversi string ke integer atau float."
      ],
      "metadata": {
        "id": "mVbaVv783lO4"
      }
    },
    {
      "cell_type": "code",
      "source": [
        "# Mengubah string menjadi integer\n",
        "int('1')"
      ],
      "metadata": {
        "colab": {
          "base_uri": "https://localhost:8080/"
        },
        "id": "3HPvJjor3-Mx",
        "outputId": "98da574b-1547-4d8c-cf67-02c1248a46ae"
      },
      "execution_count": null,
      "outputs": [
        {
          "output_type": "execute_result",
          "data": {
            "text/plain": [
              "1"
            ]
          },
          "metadata": {},
          "execution_count": 16
        }
      ]
    },
    {
      "cell_type": "code",
      "source": [
        "# Mengubah string \"7.2\" menjadi float\n",
        "float('7.2')"
      ],
      "metadata": {
        "colab": {
          "base_uri": "https://localhost:8080/"
        },
        "id": "OaLmVuhz4DYH",
        "outputId": "e1a3edc4-9b9d-4a7d-ea34-0e5bb358a1d8"
      },
      "execution_count": null,
      "outputs": [
        {
          "output_type": "execute_result",
          "data": {
            "text/plain": [
              "7.2"
            ]
          },
          "metadata": {},
          "execution_count": 17
        }
      ]
    },
    {
      "cell_type": "markdown",
      "source": [
        "Konversi angka menjadi string."
      ],
      "metadata": {
        "id": "Wb4SKGr14VF4"
      }
    },
    {
      "cell_type": "code",
      "source": [
        "# Mengubah integer menjadi string\n",
        "str(42)"
      ],
      "metadata": {
        "colab": {
          "base_uri": "https://localhost:8080/",
          "height": 35
        },
        "id": "NuegVpRH4bl4",
        "outputId": "fd5c9c44-3ab5-4a1d-b1bf-979ee034c933"
      },
      "execution_count": null,
      "outputs": [
        {
          "output_type": "execute_result",
          "data": {
            "text/plain": [
              "'42'"
            ],
            "application/vnd.google.colaboratory.intrinsic+json": {
              "type": "string"
            }
          },
          "metadata": {},
          "execution_count": 18
        }
      ]
    },
    {
      "cell_type": "code",
      "source": [
        "# Mengubah float menjadi string\n",
        "str(10.2)"
      ],
      "metadata": {
        "colab": {
          "base_uri": "https://localhost:8080/",
          "height": 35
        },
        "id": "OXQOkLhp4hoP",
        "outputId": "d6014397-5f47-473c-e42f-e5fef7aa9be5"
      },
      "execution_count": null,
      "outputs": [
        {
          "output_type": "execute_result",
          "data": {
            "text/plain": [
              "'10.2'"
            ],
            "application/vnd.google.colaboratory.intrinsic+json": {
              "type": "string"
            }
          },
          "metadata": {},
          "execution_count": 19
        }
      ]
    },
    {
      "cell_type": "markdown",
      "source": [
        "Menampilkan tipe data boolean."
      ],
      "metadata": {
        "id": "NquCzd9a43PB"
      }
    },
    {
      "cell_type": "code",
      "source": [
        "# Tipe Data TRUE\n",
        "type(True)"
      ],
      "metadata": {
        "colab": {
          "base_uri": "https://localhost:8080/"
        },
        "id": "9ppHezLF5BlA",
        "outputId": "b81d2ece-2de3-4509-a803-c6eee97f739b"
      },
      "execution_count": null,
      "outputs": [
        {
          "output_type": "execute_result",
          "data": {
            "text/plain": [
              "bool"
            ]
          },
          "metadata": {},
          "execution_count": 20
        }
      ]
    },
    {
      "cell_type": "code",
      "source": [
        "# Tipe Data FALSE\n",
        "type(False)"
      ],
      "metadata": {
        "colab": {
          "base_uri": "https://localhost:8080/"
        },
        "id": "eNwtfYUV5MUg",
        "outputId": "8159113a-587a-4fa2-9bb4-9c7bfb327c61"
      },
      "execution_count": null,
      "outputs": [
        {
          "output_type": "execute_result",
          "data": {
            "text/plain": [
              "bool"
            ]
          },
          "metadata": {},
          "execution_count": 21
        }
      ]
    },
    {
      "cell_type": "markdown",
      "source": [
        "Konversi tipe data bool ke tipe data lain. Jika mengonversi <code>True</code> ke integer atau float maka akan mendapatkan <code>1</code>. Jika mengonversi <code>False</code> ke integer atau float maka akan mendapatkan <code>0</code>."
      ],
      "metadata": {
        "id": "D3itwDXZ5RYo"
      }
    },
    {
      "cell_type": "code",
      "source": [
        "# Mengubah TRUE ke integer\n",
        "int(True)"
      ],
      "metadata": {
        "colab": {
          "base_uri": "https://localhost:8080/"
        },
        "id": "yfsXihHz52of",
        "outputId": "922635fc-b936-4ae1-ce98-af849f3110a9"
      },
      "execution_count": null,
      "outputs": [
        {
          "output_type": "execute_result",
          "data": {
            "text/plain": [
              "1"
            ]
          },
          "metadata": {},
          "execution_count": 22
        }
      ]
    },
    {
      "cell_type": "code",
      "source": [
        "# Mengubah 1 menjadi boolean\n",
        "bool(1)"
      ],
      "metadata": {
        "colab": {
          "base_uri": "https://localhost:8080/"
        },
        "id": "yBuGQcIc56nf",
        "outputId": "e4d4ab41-09e7-4cf8-f699-3a1c1387feec"
      },
      "execution_count": null,
      "outputs": [
        {
          "output_type": "execute_result",
          "data": {
            "text/plain": [
              "True"
            ]
          },
          "metadata": {},
          "execution_count": 23
        }
      ]
    },
    {
      "cell_type": "code",
      "source": [
        "# Mengubah 0 menjadi boolean\n",
        "bool(0)"
      ],
      "metadata": {
        "colab": {
          "base_uri": "https://localhost:8080/"
        },
        "id": "g_L0NHkb5_tY",
        "outputId": "c3e6ca92-44fc-4282-a4f3-777a278d3e3e"
      },
      "execution_count": null,
      "outputs": [
        {
          "output_type": "execute_result",
          "data": {
            "text/plain": [
              "False"
            ]
          },
          "metadata": {},
          "execution_count": 24
        }
      ]
    },
    {
      "cell_type": "markdown",
      "source": [
        "**LATIHAN: Tipe Data**"
      ],
      "metadata": {
        "id": "wNZmLrh76Lb4"
      }
    },
    {
      "cell_type": "markdown",
      "source": [
        "2. Identifikasi tipe data dari hasil <code>28/3</code>?"
      ],
      "metadata": {
        "id": "HOu500oR6Q3Y"
      }
    },
    {
      "cell_type": "code",
      "source": [
        "# Tulis kode di bawah ini"
      ],
      "metadata": {
        "id": "lI7F-o0O6jOQ"
      },
      "execution_count": null,
      "outputs": []
    },
    {
      "cell_type": "markdown",
      "source": [
        "3. Identifikasi tipe data dari hasil <code>28//3</code>?"
      ],
      "metadata": {
        "id": "QFSgnqiS6vmY"
      }
    },
    {
      "cell_type": "code",
      "source": [
        "# Tulis kode di bawah ini"
      ],
      "metadata": {
        "id": "x1zsbQPO66X3"
      },
      "execution_count": null,
      "outputs": []
    },
    {
      "cell_type": "markdown",
      "source": [
        "\n",
        "\n",
        "---\n",
        "\n"
      ],
      "metadata": {
        "id": "mGByzq5S69Pf"
      }
    },
    {
      "cell_type": "markdown",
      "source": [
        "**Arithmetic Operations**"
      ],
      "metadata": {
        "id": "Y53z4DP57FkH"
      }
    },
    {
      "cell_type": "code",
      "source": [
        "# Operasi penambahan\n",
        "12 + 90 + 52 + 21 + 67"
      ],
      "metadata": {
        "colab": {
          "base_uri": "https://localhost:8080/"
        },
        "id": "D_x5sFNh7Lgv",
        "outputId": "20fb359a-ea0a-4be5-828a-cffcc69e08a2"
      },
      "execution_count": null,
      "outputs": [
        {
          "output_type": "execute_result",
          "data": {
            "text/plain": [
              "242"
            ]
          },
          "metadata": {},
          "execution_count": 25
        }
      ]
    },
    {
      "cell_type": "code",
      "source": [
        "# Operasi pengurangan\n",
        "92 - 100"
      ],
      "metadata": {
        "colab": {
          "base_uri": "https://localhost:8080/"
        },
        "id": "Fz_cxPTW7Zq3",
        "outputId": "610f7d05-d974-4bf6-d5a7-13cf0914a49f"
      },
      "execution_count": null,
      "outputs": [
        {
          "output_type": "execute_result",
          "data": {
            "text/plain": [
              "-8"
            ]
          },
          "metadata": {},
          "execution_count": 27
        }
      ]
    },
    {
      "cell_type": "code",
      "source": [
        "# Operasi perkalian\n",
        "25 * 25"
      ],
      "metadata": {
        "colab": {
          "base_uri": "https://localhost:8080/"
        },
        "id": "CaJL3WzV7ipQ",
        "outputId": "60a72bc3-df66-43d5-e6e7-a73b5f431411"
      },
      "execution_count": null,
      "outputs": [
        {
          "output_type": "execute_result",
          "data": {
            "text/plain": [
              "625"
            ]
          },
          "metadata": {},
          "execution_count": 28
        }
      ]
    },
    {
      "cell_type": "code",
      "source": [
        "# Operasi pembagian\n",
        "81 / 9"
      ],
      "metadata": {
        "colab": {
          "base_uri": "https://localhost:8080/"
        },
        "id": "hBKZK1Jq7qFn",
        "outputId": "eb2518e3-938b-4a47-a3f1-eb76f9761c36"
      },
      "execution_count": null,
      "outputs": [
        {
          "output_type": "execute_result",
          "data": {
            "text/plain": [
              "9.0"
            ]
          },
          "metadata": {},
          "execution_count": 29
        }
      ]
    },
    {
      "cell_type": "code",
      "source": [
        "# Operasi pembagian\n",
        "81 / 7"
      ],
      "metadata": {
        "colab": {
          "base_uri": "https://localhost:8080/"
        },
        "id": "-Oo6G9MN7vkQ",
        "outputId": "384ca518-d41f-4783-eeff-80a99eff4d4d"
      },
      "execution_count": null,
      "outputs": [
        {
          "output_type": "execute_result",
          "data": {
            "text/plain": [
              "11.571428571428571"
            ]
          },
          "metadata": {},
          "execution_count": 30
        }
      ]
    },
    {
      "cell_type": "code",
      "source": [
        "# Operasi pembagian bilangan bulat\n",
        "81 // 9"
      ],
      "metadata": {
        "colab": {
          "base_uri": "https://localhost:8080/"
        },
        "id": "FnlEA7Ot71oX",
        "outputId": "ca6d69d1-3a23-42e4-d929-4251edfda8c3"
      },
      "execution_count": null,
      "outputs": [
        {
          "output_type": "execute_result",
          "data": {
            "text/plain": [
              "9"
            ]
          },
          "metadata": {},
          "execution_count": 32
        }
      ]
    },
    {
      "cell_type": "code",
      "source": [
        "# Operasi pembagian bilangan bulat\n",
        "81 // 7"
      ],
      "metadata": {
        "colab": {
          "base_uri": "https://localhost:8080/"
        },
        "id": "GsfJAX2E79xI",
        "outputId": "9dd1a507-6ac7-4448-9724-b3f32f14e5d2"
      },
      "execution_count": null,
      "outputs": [
        {
          "output_type": "execute_result",
          "data": {
            "text/plain": [
              "11"
            ]
          },
          "metadata": {},
          "execution_count": 34
        }
      ]
    },
    {
      "cell_type": "markdown",
      "source": [
        "**LATIHAN: Operasi Aritmatika**"
      ],
      "metadata": {
        "id": "AiKzONaQ8F5Q"
      }
    },
    {
      "cell_type": "markdown",
      "source": [
        "1. Hitung berapa jam dalam 250 menit"
      ],
      "metadata": {
        "id": "Zaq_Bu3X8Q3o"
      }
    },
    {
      "cell_type": "code",
      "source": [
        "# Tulis kode di bawah ini"
      ],
      "metadata": {
        "id": "4XJc5IP-8FGf"
      },
      "execution_count": null,
      "outputs": []
    },
    {
      "cell_type": "markdown",
      "source": [
        "Python bisa mengevaluasi operasi matematika, kode di bawah ini akan menambahkan 15 ke hasil perkalian (45)."
      ],
      "metadata": {
        "id": "QWxYnZHT81Ug"
      }
    },
    {
      "cell_type": "code",
      "source": [
        "# Ekspresi matematika\n",
        "15 + 9 * 5"
      ],
      "metadata": {
        "colab": {
          "base_uri": "https://localhost:8080/"
        },
        "id": "s34lkFSd8-3R",
        "outputId": "579563cd-d33d-4dcd-da99-b4b3a01c63f0"
      },
      "execution_count": null,
      "outputs": [
        {
          "output_type": "execute_result",
          "data": {
            "text/plain": [
              "60"
            ]
          },
          "metadata": {},
          "execution_count": 37
        }
      ]
    },
    {
      "cell_type": "markdown",
      "source": [
        "Sama hal nya ketika ekpresi diapit tanda kurung maka akan menjadi prioritas. Hasil penjumlahan 67 + 3 akan dikalikan dengan 10."
      ],
      "metadata": {
        "id": "TkyRzQrb9oVP"
      }
    },
    {
      "cell_type": "code",
      "source": [
        "# Ekspresi matematika\n",
        "(67 + 3) * 10"
      ],
      "metadata": {
        "colab": {
          "base_uri": "https://localhost:8080/"
        },
        "id": "_jhUddz59n8H",
        "outputId": "4a636c86-5d09-40e1-b4a1-3da5354bb1e7"
      },
      "execution_count": null,
      "outputs": [
        {
          "output_type": "execute_result",
          "data": {
            "text/plain": [
              "700"
            ]
          },
          "metadata": {},
          "execution_count": 38
        }
      ]
    },
    {
      "cell_type": "markdown",
      "source": [
        "\n",
        "\n",
        "---\n",
        "\n"
      ],
      "metadata": {
        "id": "_nyscTge-I2g"
      }
    },
    {
      "cell_type": "markdown",
      "source": [
        "**Variabel**"
      ],
      "metadata": {
        "id": "roAwvB9_-Lx_"
      }
    },
    {
      "cell_type": "code",
      "source": [
        "# Menyimpan nilai ke dalam variabel\n",
        "x = 12 + 90 + 52 + 21 + 67"
      ],
      "metadata": {
        "id": "-LFvUN2e-Tyn"
      },
      "execution_count": null,
      "outputs": []
    },
    {
      "cell_type": "markdown",
      "source": [
        "Untuk menampilkan <code>x</code>, cukup menaruh variabel di baris terakhir."
      ],
      "metadata": {
        "id": "_wVrTl3q-d9v"
      }
    },
    {
      "cell_type": "code",
      "source": [
        "# Cetak nilai dalam variabel\n",
        "x"
      ],
      "metadata": {
        "colab": {
          "base_uri": "https://localhost:8080/"
        },
        "id": "oz1MFtq0-Y9f",
        "outputId": "61ca65eb-46de-47aa-deea-0ec6da31fde2"
      },
      "execution_count": null,
      "outputs": [
        {
          "output_type": "execute_result",
          "data": {
            "text/plain": [
              "242"
            ]
          },
          "metadata": {},
          "execution_count": 40
        }
      ]
    },
    {
      "cell_type": "markdown",
      "source": [
        "Variabel <code>x</code> menyimpan hasilnya dan kita bisa melakukan operasi lagi, maka hasil nya akan menjadi variabel baru."
      ],
      "metadata": {
        "id": "FeO_ttQv-zHv"
      }
    },
    {
      "cell_type": "code",
      "source": [
        "# Menggunakan variabel lain untuk menyimpan hasil perasi variabel dan nilai\n",
        "y = x / 25\n",
        "y"
      ],
      "metadata": {
        "colab": {
          "base_uri": "https://localhost:8080/"
        },
        "id": "cvlK9yRg_PWv",
        "outputId": "bb082d1b-3bda-4b33-9040-4a4d9000b7f1"
      },
      "execution_count": null,
      "outputs": [
        {
          "output_type": "execute_result",
          "data": {
            "text/plain": [
              "9.68"
            ]
          },
          "metadata": {},
          "execution_count": 41
        }
      ]
    },
    {
      "cell_type": "markdown",
      "source": [
        "Jika kita menyimpan nilai ke variabel yang sudah ada, nilai baru akan menimpa nilai sebelumnya."
      ],
      "metadata": {
        "id": "APQneWhN_ug-"
      }
    },
    {
      "cell_type": "code",
      "source": [
        "# Menimpa variabel dengan nilai baru\n",
        "x = x / 50\n",
        "x"
      ],
      "metadata": {
        "colab": {
          "base_uri": "https://localhost:8080/"
        },
        "id": "1Z_umn3-_jEY",
        "outputId": "0437a69e-7740-4e1e-83f8-8f12f5a66eb0"
      },
      "execution_count": null,
      "outputs": [
        {
          "output_type": "execute_result",
          "data": {
            "text/plain": [
              "4.84"
            ]
          },
          "metadata": {},
          "execution_count": 42
        }
      ]
    },
    {
      "cell_type": "markdown",
      "source": [
        "Nama variabel sebaiknya harus memiliki arti, supaya orang lain dapat membaca dan memahami kode dengan lebih mudah."
      ],
      "metadata": {
        "id": "rmIdVdfnvD6k"
      }
    },
    {
      "cell_type": "code",
      "source": [
        "# Buat nama variabel dengan memiliki arti\n",
        "total_movie_length_minutes  = 120 + 180 + 240 # Total panjang film dalam menit\n",
        "total_movie_length_minutes"
      ],
      "metadata": {
        "colab": {
          "base_uri": "https://localhost:8080/"
        },
        "id": "e2MewEO2vV0l",
        "outputId": "df692448-e862-46ce-8d42-d381e23a1688"
      },
      "execution_count": 1,
      "outputs": [
        {
          "output_type": "execute_result",
          "data": {
            "text/plain": [
              "540"
            ]
          },
          "metadata": {},
          "execution_count": 1
        }
      ]
    },
    {
      "cell_type": "code",
      "source": [
        "# Buat nama variabel dengan memiliki arti\n",
        "total_hours = total_movie_length_minutes/ 60 # Total panjang film dalam jam\n",
        "total_hours"
      ],
      "metadata": {
        "colab": {
          "base_uri": "https://localhost:8080/"
        },
        "id": "6G_rKh23wNLu",
        "outputId": "bf2848b2-4584-451a-9d71-9a567a24518e"
      },
      "execution_count": 2,
      "outputs": [
        {
          "output_type": "execute_result",
          "data": {
            "text/plain": [
              "9.0"
            ]
          },
          "metadata": {},
          "execution_count": 2
        }
      ]
    },
    {
      "cell_type": "markdown",
      "source": [
        "Selain menyimpan nilai panjang film ke dalam variabel total_min, perhitungan ini bisa dilakukan semuanya sekaligus dalam satu ekspresi, dengan menggunakan tanda kurung untuk menjumlahkan panjang film sebelum dibagi oleh 60."
      ],
      "metadata": {
        "id": "cE1DbBYowwO5"
      }
    },
    {
      "cell_type": "code",
      "source": [
        "# Ekpresi lain\n",
        "total_hours = (120 + 180 + 240) / 60 # Total panjang film dalam jam\n",
        "total_hours"
      ],
      "metadata": {
        "colab": {
          "base_uri": "https://localhost:8080/"
        },
        "id": "2S1dSNn4wkxt",
        "outputId": "e77920e0-9cd0-466d-8de3-58d8eba12a00"
      },
      "execution_count": 4,
      "outputs": [
        {
          "output_type": "execute_result",
          "data": {
            "text/plain": [
              "9"
            ]
          },
          "metadata": {},
          "execution_count": 4
        }
      ]
    },
    {
      "cell_type": "markdown",
      "source": [
        "**LATIHAN: Variabel**"
      ],
      "metadata": {
        "id": "41qPlWY-vVJ1"
      }
    },
    {
      "cell_type": "markdown",
      "source": [
        "1. Hitung nilai <code>x</code> yang dimana <code>x = 15 + 9 * 2</code>"
      ],
      "metadata": {
        "id": "aVO3aa1cyKC8"
      }
    },
    {
      "cell_type": "code",
      "source": [
        "# Tulis kode di bawah ini"
      ],
      "metadata": {
        "id": "Do1GBxDZyg50"
      },
      "execution_count": 8,
      "outputs": []
    },
    {
      "cell_type": "markdown",
      "source": [
        "2. Hitung nilai <code>y</code> yang dimana <code>y = (15 + 9) * 2</code>"
      ],
      "metadata": {
        "id": "e73CqfEoyn41"
      }
    },
    {
      "cell_type": "code",
      "source": [
        "# Tulis kode di bawah ini"
      ],
      "metadata": {
        "id": "1h_uTkWFy3a0"
      },
      "execution_count": 7,
      "outputs": []
    },
    {
      "cell_type": "markdown",
      "source": [
        "3. Hitung nilai <code>z</code> yang dimana <code>z = x - y</code>"
      ],
      "metadata": {
        "id": "egC1VCRazNBs"
      }
    },
    {
      "cell_type": "code",
      "source": [
        "# Tulis kode di bawah ini"
      ],
      "metadata": {
        "id": "T9_-Akq_zZvU"
      },
      "execution_count": 10,
      "outputs": []
    },
    {
      "cell_type": "markdown",
      "source": [
        "\n",
        "\n",
        "---\n",
        "\n"
      ],
      "metadata": {
        "id": "02VisuORzo1c"
      }
    }
  ]
}